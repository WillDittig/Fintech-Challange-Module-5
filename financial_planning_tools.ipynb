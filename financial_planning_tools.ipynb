{
 "cells": [
  {
   "cell_type": "markdown",
   "metadata": {},
   "source": [
    "# Financial Planning with APIs and Simulations\n",
    "\n",
    "In this Challenge, you’ll create two financial analysis tools by using a single Jupyter notebook:\n",
    "\n",
    "Part 1: A financial planner for emergencies. The members will be able to use this tool to visualize their current savings. The members can then determine if they have enough reserves for an emergency fund.\n",
    "\n",
    "Part 2: A financial planner for retirement. This tool will forecast the performance of their retirement portfolio in 30 years. To do this, the tool will make an Alpaca API call via the Alpaca SDK to get historical price data for use in Monte Carlo simulations.\n",
    "\n",
    "You’ll use the information from the Monte Carlo simulation to answer questions about the portfolio in your Jupyter notebook.\n",
    "\n"
   ]
  },
  {
   "cell_type": "code",
   "execution_count": 1,
   "metadata": {},
   "outputs": [],
   "source": [
    "# Import the required libraries and dependencies\n",
    "import os\n",
    "import requests\n",
    "import json\n",
    "import pandas as pd\n",
    "from dotenv import load_dotenv\n",
    "import alpaca_trade_api as tradeapi\n",
    "from MCForecastTools import MCSimulation\n",
    "\n",
    "%matplotlib inline"
   ]
  },
  {
   "cell_type": "code",
   "execution_count": 2,
   "metadata": {},
   "outputs": [
    {
     "data": {
      "text/plain": [
       "True"
      ]
     },
     "execution_count": 2,
     "metadata": {},
     "output_type": "execute_result"
    }
   ],
   "source": [
    "# Load the environment variables from the .env file\n",
    "#by calling the load_dotenv function\n",
    "load_dotenv()"
   ]
  },
  {
   "cell_type": "code",
   "execution_count": 3,
   "metadata": {},
   "outputs": [
    {
     "name": "stdout",
     "output_type": "stream",
     "text": [
      "None\n"
     ]
    }
   ],
   "source": [
    "print(os.getenv(\"SAMPLE\"))"
   ]
  },
  {
   "cell_type": "markdown",
   "metadata": {},
   "source": [
    "## Part 1: Create a Financial Planner for Emergencies"
   ]
  },
  {
   "cell_type": "markdown",
   "metadata": {},
   "source": [
    "### Evaluate the Cryptocurrency Wallet by Using the Requests Library\n",
    "\n",
    "In this section, you’ll determine the current value of a member’s cryptocurrency wallet. You’ll collect the current prices for the Bitcoin and Ethereum cryptocurrencies by using the Python Requests library. For the prototype, you’ll assume that the member holds the 1.2 Bitcoins (BTC) and 5.3 Ethereum coins (ETH). To do all this, complete the following steps:\n",
    "\n",
    "1. Create a variable named `monthly_income`, and set its value to `12000`.\n",
    "\n",
    "2. Use the Requests library to get the current price (in US dollars) of Bitcoin (BTC) and Ethereum (ETH) by using the API endpoints that the starter code supplies.\n",
    "\n",
    "3. Navigate the JSON response object to access the current price of each coin, and store each in a variable.\n",
    "\n",
    "    > **Hint** Note the specific identifier for each cryptocurrency in the API JSON response. The Bitcoin identifier is `1`, and the Ethereum identifier is `1027`.\n",
    "\n",
    "4. Calculate the value, in US dollars, of the current amount of each cryptocurrency and of the entire cryptocurrency wallet.\n",
    "\n"
   ]
  },
  {
   "cell_type": "code",
   "execution_count": 4,
   "metadata": {},
   "outputs": [],
   "source": [
    "# The current number of coins for each cryptocurrency asset held in the portfolio.\n",
    "btc_coins = 1.2\n",
    "eth_coins = 5.3"
   ]
  },
  {
   "cell_type": "markdown",
   "metadata": {},
   "source": [
    "#### Step 1: Create a variable named `monthly_income`, and set its value to `12000`."
   ]
  },
  {
   "cell_type": "code",
   "execution_count": 5,
   "metadata": {},
   "outputs": [
    {
     "data": {
      "text/plain": [
       "12000"
      ]
     },
     "execution_count": 5,
     "metadata": {},
     "output_type": "execute_result"
    }
   ],
   "source": [
    "# The monthly amount for the member's household income\n",
    "# YOUR CODE HERE\n",
    "monthly_income = 12000\n",
    "monthly_income"
   ]
  },
  {
   "cell_type": "markdown",
   "metadata": {},
   "source": [
    "#### Review the endpoint URLs for the API calls to Free Crypto API in order to get the current pricing information for both BTC and ETH."
   ]
  },
  {
   "cell_type": "code",
   "execution_count": 6,
   "metadata": {},
   "outputs": [],
   "source": [
    "# The Free Crypto API Call endpoint URLs for the held cryptocurrency assets\n",
    "btc_url = \"https://api.alternative.me/v2/ticker/Bitcoin/?convert=USD\"\n",
    "eth_url = \"https://api.alternative.me/v2/ticker/Ethereum/?convert=USD\""
   ]
  },
  {
   "cell_type": "markdown",
   "metadata": {},
   "source": [
    "#### Step 2. Use the Requests library to get the current price (in US dollars) of Bitcoin (BTC) and Ethereum (ETH) by using the API endpoints that the starter code supplied."
   ]
  },
  {
   "cell_type": "code",
   "execution_count": 7,
   "metadata": {},
   "outputs": [
    {
     "name": "stdout",
     "output_type": "stream",
     "text": [
      "<class 'dict'>\n",
      "{'data': {'1': {'id': 1, 'name': 'Bitcoin', 'symbol': 'BTC', 'website_slug': 'bitcoin', 'rank': 1, 'circulating_supply': 18827262, 'total_supply': 18827262, 'max_supply': 21000000, 'quotes': {'USD': {'price': 44248.0, 'volume_24h': 32000866779, 'market_cap': 830589925934, 'percentage_change_1h': -0.288251344233824, 'percentage_change_24h': 4.88975200176814, 'percentage_change_7d': -6.59355786522799, 'percent_change_1h': -0.288251344233824, 'percent_change_24h': 4.88975200176814, 'percent_change_7d': -6.59355786522799}}, 'last_updated': 1632710950}}, 'metadata': {'timestamp': 1632710950, 'num_cryptocurrencies': 3105, 'error': None}}\n",
      "{\n",
      "   \"data\": {\n",
      "      \"1\": {\n",
      "         \"id\": 1,\n",
      "         \"name\": \"Bitcoin\",\n",
      "         \"symbol\": \"BTC\",\n",
      "         \"website_slug\": \"bitcoin\",\n",
      "         \"rank\": 1,\n",
      "         \"circulating_supply\": 18827262,\n",
      "         \"total_supply\": 18827262,\n",
      "         \"max_supply\": 21000000,\n",
      "         \"quotes\": {\n",
      "            \"USD\": {\n",
      "               \"price\": 44248.0,\n",
      "               \"volume_24h\": 32000866779,\n",
      "               \"market_cap\": 830589925934,\n",
      "               \"percentage_change_1h\": -0.288251344233824,\n",
      "               \"percentage_change_24h\": 4.88975200176814,\n",
      "               \"percentage_change_7d\": -6.59355786522799,\n",
      "               \"percent_change_1h\": -0.288251344233824,\n",
      "               \"percent_change_24h\": 4.88975200176814,\n",
      "               \"percent_change_7d\": -6.59355786522799\n",
      "            }\n",
      "         },\n",
      "         \"last_updated\": 1632710950\n",
      "      }\n",
      "   },\n",
      "   \"metadata\": {\n",
      "      \"timestamp\": 1632710950,\n",
      "      \"num_cryptocurrencies\": 3105,\n",
      "      \"error\": null\n",
      "   }\n",
      "}\n"
     ]
    }
   ],
   "source": [
    "# Using the Python requests library, make an API call to access the current price of BTC\n",
    "btc_response = requests.get(btc_url).json()\n",
    "print(type(btc_response))\n",
    "print(btc_response)\n",
    "# Use the json.dumps function to review the response data from the API call\n",
    "# Use the indent and sort_keys parameters to make the response object readable\n",
    "# YOUR CODE HERE\n",
    "print(json.dumps(btc_response, indent = 3))"
   ]
  },
  {
   "cell_type": "code",
   "execution_count": 8,
   "metadata": {},
   "outputs": [
    {
     "name": "stdout",
     "output_type": "stream",
     "text": [
      "<class 'dict'>\n",
      "{'data': {'1027': {'id': 1027, 'name': 'Ethereum', 'symbol': 'ETH', 'website_slug': 'ethereum', 'rank': 2, 'circulating_supply': 117689996, 'total_supply': 117689996, 'max_supply': 0, 'quotes': {'USD': {'price': 3144.48, 'volume_24h': 25805677460, 'market_cap': 369129802984, 'percentage_change_1h': -0.698388501107524, 'percentage_change_24h': 9.60313031886645, 'percentage_change_7d': -5.73788230519385, 'percent_change_1h': -0.698388501107524, 'percent_change_24h': 9.60313031886645, 'percent_change_7d': -5.73788230519385}}, 'last_updated': 1632710960}}, 'metadata': {'timestamp': 1632710960, 'num_cryptocurrencies': 3105, 'error': None}}\n",
      "{\n",
      "   \"data\": {\n",
      "      \"1027\": {\n",
      "         \"id\": 1027,\n",
      "         \"name\": \"Ethereum\",\n",
      "         \"symbol\": \"ETH\",\n",
      "         \"website_slug\": \"ethereum\",\n",
      "         \"rank\": 2,\n",
      "         \"circulating_supply\": 117689996,\n",
      "         \"total_supply\": 117689996,\n",
      "         \"max_supply\": 0,\n",
      "         \"quotes\": {\n",
      "            \"USD\": {\n",
      "               \"price\": 3144.48,\n",
      "               \"volume_24h\": 25805677460,\n",
      "               \"market_cap\": 369129802984,\n",
      "               \"percentage_change_1h\": -0.698388501107524,\n",
      "               \"percentage_change_24h\": 9.60313031886645,\n",
      "               \"percentage_change_7d\": -5.73788230519385,\n",
      "               \"percent_change_1h\": -0.698388501107524,\n",
      "               \"percent_change_24h\": 9.60313031886645,\n",
      "               \"percent_change_7d\": -5.73788230519385\n",
      "            }\n",
      "         },\n",
      "         \"last_updated\": 1632710960\n",
      "      }\n",
      "   },\n",
      "   \"metadata\": {\n",
      "      \"timestamp\": 1632710960,\n",
      "      \"num_cryptocurrencies\": 3105,\n",
      "      \"error\": null\n",
      "   }\n",
      "}\n"
     ]
    }
   ],
   "source": [
    "# Using the Python requests library, make an API call to access the current price ETH\n",
    "eth_response = requests.get(eth_url).json()\n",
    "print(type(eth_response))\n",
    "print(eth_response)\n",
    "\n",
    "# Use the json.dumps function to review the response data from the API call\n",
    "# Use the indent and sort_keys parameters to make the response object readable\n",
    "# YOUR CODE HERE\n",
    "print(json.dumps(eth_response, indent=3))"
   ]
  },
  {
   "cell_type": "markdown",
   "metadata": {},
   "source": [
    "#### Step 3: Navigate the JSON response object to access the current price of each coin, and store each in a variable."
   ]
  },
  {
   "cell_type": "code",
   "execution_count": 9,
   "metadata": {},
   "outputs": [
    {
     "data": {
      "text/plain": [
       "42729.0"
      ]
     },
     "execution_count": 9,
     "metadata": {},
     "output_type": "execute_result"
    }
   ],
   "source": [
    "# Navigate the BTC response object to access the current price of BTC\n",
    "btc_price = 42729.0\n",
    "\n",
    "# Print the current price of BTC\n",
    "# YOUR CODE HERE\n",
    "btc_price"
   ]
  },
  {
   "cell_type": "code",
   "execution_count": 10,
   "metadata": {},
   "outputs": [
    {
     "data": {
      "text/plain": [
       "2925.41"
      ]
     },
     "execution_count": 10,
     "metadata": {},
     "output_type": "execute_result"
    }
   ],
   "source": [
    "# Navigate the BTC response object to access the current price of ETH\n",
    "eth_price = 2925.41\n",
    "\n",
    "# Print the current price of ETH\n",
    "# YOUR CODE HERE\n",
    "eth_price"
   ]
  },
  {
   "cell_type": "markdown",
   "metadata": {},
   "source": [
    "### Step 4: Calculate the value, in US dollars, of the current amount of each cryptocurrency and of the entire cryptocurrency wallet."
   ]
  },
  {
   "cell_type": "code",
   "execution_count": 11,
   "metadata": {},
   "outputs": [
    {
     "data": {
      "text/plain": [
       "51274.799999999996"
      ]
     },
     "execution_count": 11,
     "metadata": {},
     "output_type": "execute_result"
    }
   ],
   "source": [
    "# Compute the current value of the BTC holding \n",
    "btc_value = btc_price * btc_coins\n",
    "\n",
    "# Print current value of your holding in BTC\n",
    "# YOUR CODE HERE\n",
    "btc_value"
   ]
  },
  {
   "cell_type": "code",
   "execution_count": 12,
   "metadata": {},
   "outputs": [
    {
     "data": {
      "text/plain": [
       "15504.672999999999"
      ]
     },
     "execution_count": 12,
     "metadata": {},
     "output_type": "execute_result"
    }
   ],
   "source": [
    "# Compute the current value of the ETH holding \n",
    "eth_value = eth_price * eth_coins\n",
    "\n",
    "# Print current value of your holding in ETH\n",
    "# YOUR CODE HERE\n",
    "eth_value"
   ]
  },
  {
   "cell_type": "code",
   "execution_count": 13,
   "metadata": {},
   "outputs": [
    {
     "data": {
      "text/plain": [
       "66779.473"
      ]
     },
     "execution_count": 13,
     "metadata": {},
     "output_type": "execute_result"
    }
   ],
   "source": [
    "# Compute the total value of the cryptocurrency wallet\n",
    "# Add the value of the BTC holding to the value of the ETH holding\n",
    "total_crypto_wallet = (btc_value + eth_value)\n",
    "\n",
    "# Print current cryptocurrency wallet balance\n",
    "# YOUR CODE HERE\n",
    "total_crypto_wallet"
   ]
  },
  {
   "cell_type": "markdown",
   "metadata": {},
   "source": [
    "### Evaluate the Stock and Bond Holdings by Using the Alpaca SDK\n",
    "\n",
    "In this section, you’ll determine the current value of a member’s stock and bond holdings. You’ll make an API call to Alpaca via the Alpaca SDK to get the current closing prices of the SPDR S&P 500 ETF Trust (ticker: SPY) and of the iShares Core US Aggregate Bond ETF (ticker: AGG). For the prototype, assume that the member holds 110 shares of SPY, which represents the stock portion of their portfolio, and 200 shares of AGG, which represents the bond portion. To do all this, complete the following steps:\n",
    "\n",
    "1. In the `Starter_Code` folder, create an environment file (`.env`) to store the values of your Alpaca API key and Alpaca secret key.\n",
    "\n",
    "2. Set the variables for the Alpaca API and secret keys. Using the Alpaca SDK, create the Alpaca `tradeapi.REST` object. In this object, include the parameters for the Alpaca API key, the secret key, and the version number.\n",
    "\n",
    "3. Set the following parameters for the Alpaca API call:\n",
    "\n",
    "    - `tickers`: Use the tickers for the member’s stock and bond holdings.\n",
    "\n",
    "    - `timeframe`: Use a time frame of one day.\n",
    "\n",
    "    - `start_date` and `end_date`: Use the same date for these parameters, and format them with the date of the previous weekday (or `2020-08-07`). This is because you want the one closing price for the most-recent trading day.\n",
    "\n",
    "4. Get the current closing prices for `SPY` and `AGG` by using the Alpaca `get_barset` function. Format the response as a Pandas DataFrame by including the `df` property at the end of the `get_barset` function.\n",
    "\n",
    "5. Navigating the Alpaca response DataFrame, select the `SPY` and `AGG` closing prices, and store them as variables.\n",
    "\n",
    "6. Calculate the value, in US dollars, of the current amount of shares in each of the stock and bond portions of the portfolio, and print the results.\n"
   ]
  },
  {
   "cell_type": "markdown",
   "metadata": {},
   "source": [
    "#### Review the total number of shares held in both (SPY) and (AGG)."
   ]
  },
  {
   "cell_type": "code",
   "execution_count": 14,
   "metadata": {},
   "outputs": [],
   "source": [
    "# Current amount of shares held in both the stock (SPY) and bond (AGG) portion of the portfolio.\n",
    "spy_shares = 110\n",
    "agg_shares = 200\n"
   ]
  },
  {
   "cell_type": "markdown",
   "metadata": {},
   "source": [
    "#### Step 1: In the `Starter_Code` folder, create an environment file (`.env`) to store the values of your Alpaca API key and Alpaca secret key."
   ]
  },
  {
   "cell_type": "markdown",
   "metadata": {},
   "source": [
    "#### Step 2: Set the variables for the Alpaca API and secret keys. Using the Alpaca SDK, create the Alpaca `tradeapi.REST` object. In this object, include the parameters for the Alpaca API key, the secret key, and the version number."
   ]
  },
  {
   "cell_type": "code",
   "execution_count": 15,
   "metadata": {},
   "outputs": [
    {
     "name": "stdout",
     "output_type": "stream",
     "text": [
      "20\n",
      "40\n"
     ]
    },
    {
     "data": {
      "text/plain": [
       "['__class__',\n",
       " '__delattr__',\n",
       " '__dict__',\n",
       " '__dir__',\n",
       " '__doc__',\n",
       " '__enter__',\n",
       " '__eq__',\n",
       " '__exit__',\n",
       " '__format__',\n",
       " '__ge__',\n",
       " '__getattribute__',\n",
       " '__gt__',\n",
       " '__hash__',\n",
       " '__init__',\n",
       " '__init_subclass__',\n",
       " '__le__',\n",
       " '__lt__',\n",
       " '__module__',\n",
       " '__ne__',\n",
       " '__new__',\n",
       " '__reduce__',\n",
       " '__reduce_ex__',\n",
       " '__repr__',\n",
       " '__setattr__',\n",
       " '__sizeof__',\n",
       " '__str__',\n",
       " '__subclasshook__',\n",
       " '__weakref__',\n",
       " '_api_version',\n",
       " '_base_url',\n",
       " '_data_get_v2',\n",
       " '_key_id',\n",
       " '_oauth',\n",
       " '_one_request',\n",
       " '_request',\n",
       " '_retry',\n",
       " '_retry_codes',\n",
       " '_retry_wait',\n",
       " '_secret_key',\n",
       " '_session',\n",
       " '_use_raw_data',\n",
       " 'add_to_watchlist',\n",
       " 'cancel_all_orders',\n",
       " 'cancel_order',\n",
       " 'close',\n",
       " 'close_all_positions',\n",
       " 'close_position',\n",
       " 'create_watchlist',\n",
       " 'data_get',\n",
       " 'delete',\n",
       " 'delete_from_watchlist',\n",
       " 'delete_watchlist',\n",
       " 'get',\n",
       " 'get_account',\n",
       " 'get_account_configurations',\n",
       " 'get_activities',\n",
       " 'get_aggs',\n",
       " 'get_asset',\n",
       " 'get_bars',\n",
       " 'get_bars_iter',\n",
       " 'get_barset',\n",
       " 'get_calendar',\n",
       " 'get_clock',\n",
       " 'get_last_quote',\n",
       " 'get_last_trade',\n",
       " 'get_latest_quote',\n",
       " 'get_latest_trade',\n",
       " 'get_order',\n",
       " 'get_order_by_client_order_id',\n",
       " 'get_portfolio_history',\n",
       " 'get_position',\n",
       " 'get_quotes',\n",
       " 'get_quotes_iter',\n",
       " 'get_snapshot',\n",
       " 'get_snapshots',\n",
       " 'get_trades',\n",
       " 'get_trades_iter',\n",
       " 'get_watchlist',\n",
       " 'get_watchlist_by_name',\n",
       " 'get_watchlists',\n",
       " 'list_assets',\n",
       " 'list_orders',\n",
       " 'list_positions',\n",
       " 'patch',\n",
       " 'polygon',\n",
       " 'post',\n",
       " 'put',\n",
       " 'replace_order',\n",
       " 'response_wrapper',\n",
       " 'submit_order',\n",
       " 'update_account_configurations',\n",
       " 'update_watchlist']"
      ]
     },
     "execution_count": 15,
     "metadata": {},
     "output_type": "execute_result"
    }
   ],
   "source": [
    "# Set the variables for the Alpaca API and secret keys\n",
    "# YOUR CODE HERE\n",
    "load_dotenv(\"../Challenge 5 Starter_Code-1/Starter_Code/SAMPLE.env\")\n",
    "ALPACA_API_KEY = \"PKI7J1OJZ7PYJL6YTCLX\"\n",
    "ALPACA_SECRET_KEY = \"NWY5uhgV5qFMk9TN5VmFjVn6xxYPqaON3a4YRAaY\"\n",
    "ALPACA_API_KEY\n",
    "ALPACA_SECRET_KEY\n",
    "print(len(ALPACA_API_KEY))\n",
    "print(len(ALPACA_SECRET_KEY))\n",
    "\n",
    "\n",
    "# YOUR CODE HERE\n",
    "      \n",
    "\n",
    "# Create the Alpaca tradeapi.REST object\n",
    "# YOUR CODE HERE\n",
    "alpaca = tradeapi.REST(ALPACA_API_KEY, ALPACA_SECRET_KEY, api_version=\"v2\"\n",
    ")\n",
    "dir(alpaca)"
   ]
  },
  {
   "cell_type": "markdown",
   "metadata": {},
   "source": [
    "#### Step 3: Set the following parameters for the Alpaca API call:\n",
    "\n",
    "- `tickers`: Use the tickers for the member’s stock and bond holdings.\n",
    "\n",
    "- `timeframe`: Use a time frame of one day.\n",
    "\n",
    "- `start_date` and `end_date`: Use the same date for these parameters, and format them with the date of the previous weekday (or `2020-08-07`). This is because you want the one closing price for the most-recent trading day.\n"
   ]
  },
  {
   "cell_type": "code",
   "execution_count": 16,
   "metadata": {},
   "outputs": [],
   "source": [
    "# Set the tickers for both the bond and stock portion of the portfolio\n",
    "# YOUR CODE HERE\n",
    "tickers = [\"SPY\", \"AGG\"]\n",
    "# Set timeframe to 1D \n",
    "# YOUR CODE HERE\n",
    "timeframe = \"1D\"\n",
    "# Format current date as ISO format\n",
    "# Set both the start and end date at the date of your prior weekday \n",
    "# This will give you the closing price of the previous trading day\n",
    "# Alternatively you can use a start and end date of 2020-08-07\n",
    "# YOUR CODE HERE\n",
    "today = pd.Timestamp(\"2021-09-24\", tz=\"America/New_York\").isoformat()\n",
    "# YOUR CODE HERE\n"
   ]
  },
  {
   "cell_type": "markdown",
   "metadata": {},
   "source": [
    "#### Step 4: Get the current closing prices for `SPY` and `AGG` by using the Alpaca `get_barset` function. Format the response as a Pandas DataFrame by including the `df` property at the end of the `get_barset` function."
   ]
  },
  {
   "cell_type": "code",
   "execution_count": 17,
   "metadata": {},
   "outputs": [
    {
     "data": {
      "text/html": [
       "<div>\n",
       "<style scoped>\n",
       "    .dataframe tbody tr th:only-of-type {\n",
       "        vertical-align: middle;\n",
       "    }\n",
       "\n",
       "    .dataframe tbody tr th {\n",
       "        vertical-align: top;\n",
       "    }\n",
       "\n",
       "    .dataframe thead tr th {\n",
       "        text-align: left;\n",
       "    }\n",
       "\n",
       "    .dataframe thead tr:last-of-type th {\n",
       "        text-align: right;\n",
       "    }\n",
       "</style>\n",
       "<table border=\"1\" class=\"dataframe\">\n",
       "  <thead>\n",
       "    <tr>\n",
       "      <th></th>\n",
       "      <th colspan=\"5\" halign=\"left\">AGG</th>\n",
       "      <th colspan=\"5\" halign=\"left\">SPY</th>\n",
       "    </tr>\n",
       "    <tr>\n",
       "      <th></th>\n",
       "      <th>open</th>\n",
       "      <th>high</th>\n",
       "      <th>low</th>\n",
       "      <th>close</th>\n",
       "      <th>volume</th>\n",
       "      <th>open</th>\n",
       "      <th>high</th>\n",
       "      <th>low</th>\n",
       "      <th>close</th>\n",
       "      <th>volume</th>\n",
       "    </tr>\n",
       "    <tr>\n",
       "      <th>time</th>\n",
       "      <th></th>\n",
       "      <th></th>\n",
       "      <th></th>\n",
       "      <th></th>\n",
       "      <th></th>\n",
       "      <th></th>\n",
       "      <th></th>\n",
       "      <th></th>\n",
       "      <th></th>\n",
       "      <th></th>\n",
       "    </tr>\n",
       "  </thead>\n",
       "  <tbody>\n",
       "    <tr>\n",
       "      <th>2021-09-24 00:00:00-04:00</th>\n",
       "      <td>115.5</td>\n",
       "      <td>115.5055</td>\n",
       "      <td>115.319</td>\n",
       "      <td>115.41</td>\n",
       "      <td>3388185</td>\n",
       "      <td>441.44</td>\n",
       "      <td>444.67</td>\n",
       "      <td>441.21</td>\n",
       "      <td>443.92</td>\n",
       "      <td>52199034</td>\n",
       "    </tr>\n",
       "  </tbody>\n",
       "</table>\n",
       "</div>"
      ],
      "text/plain": [
       "                             AGG                                         SPY  \\\n",
       "                            open      high      low   close   volume    open   \n",
       "time                                                                           \n",
       "2021-09-24 00:00:00-04:00  115.5  115.5055  115.319  115.41  3388185  441.44   \n",
       "\n",
       "                                                             \n",
       "                             high     low   close    volume  \n",
       "time                                                         \n",
       "2021-09-24 00:00:00-04:00  444.67  441.21  443.92  52199034  "
      ]
     },
     "execution_count": 17,
     "metadata": {},
     "output_type": "execute_result"
    }
   ],
   "source": [
    "# Use the Alpaca get_barset function to get current closing prices the portfolio\n",
    "# Be sure to set the `df` property after the function to format the response object as a DataFrame\n",
    "# YOUR CODE HERE\n",
    "df_portfolio = alpaca.get_barset(tickers, timeframe, start = today, end = today).df\n",
    "# Review the first 5 rows of the Alpaca DataFrame\n",
    "# YOUR CODE HERE\n",
    "df_portfolio"
   ]
  },
  {
   "cell_type": "markdown",
   "metadata": {},
   "source": [
    "#### Step 5: Navigating the Alpaca response DataFrame, select the `SPY` and `AGG` closing prices, and store them as variables."
   ]
  },
  {
   "cell_type": "code",
   "execution_count": 18,
   "metadata": {},
   "outputs": [
    {
     "data": {
      "text/plain": [
       "115.41"
      ]
     },
     "execution_count": 18,
     "metadata": {},
     "output_type": "execute_result"
    }
   ],
   "source": [
    "# Access the closing price for AGG from the Alpaca DataFrame\n",
    "# Converting the value to a floating point number\n",
    "agg_close_price = 115.41\n",
    "\n",
    "# Print the AGG closing price\n",
    "# YOUR CODE HERE\n",
    "agg_close_price"
   ]
  },
  {
   "cell_type": "code",
   "execution_count": 19,
   "metadata": {},
   "outputs": [
    {
     "data": {
      "text/plain": [
       "443.92"
      ]
     },
     "execution_count": 19,
     "metadata": {},
     "output_type": "execute_result"
    }
   ],
   "source": [
    "# Access the closing price for SPY from the Alpaca DataFrame\n",
    "# Converting the value to a floating point number\n",
    "spy_close_price = 443.92\n",
    "\n",
    "# Print the SPY closing price\n",
    "# YOUR CODE HERE\n",
    "spy_close_price"
   ]
  },
  {
   "cell_type": "markdown",
   "metadata": {},
   "source": [
    "#### Step 6: Calculate the value, in US dollars, of the current amount of shares in each of the stock and bond portions of the portfolio, and print the results."
   ]
  },
  {
   "cell_type": "code",
   "execution_count": 20,
   "metadata": {},
   "outputs": [
    {
     "data": {
      "text/plain": [
       "23082.0"
      ]
     },
     "execution_count": 20,
     "metadata": {},
     "output_type": "execute_result"
    }
   ],
   "source": [
    "# Calculate the current value of the bond portion of the portfolio\n",
    "agg_value = (agg_close_price * agg_shares)\n",
    "agg_value\n",
    "# Print the current value of the bond portfolio\n",
    "# YOUR CODE HERE\n"
   ]
  },
  {
   "cell_type": "code",
   "execution_count": 21,
   "metadata": {},
   "outputs": [
    {
     "data": {
      "text/plain": [
       "48831.200000000004"
      ]
     },
     "execution_count": 21,
     "metadata": {},
     "output_type": "execute_result"
    }
   ],
   "source": [
    "# Calculate the current value of the stock portion of the portfolio\n",
    "spy_value = (spy_close_price * spy_shares)\n",
    "spy_value\n",
    "# Print the current value of the stock portfolio\n",
    "# YOUR CODE HERE\n"
   ]
  },
  {
   "cell_type": "code",
   "execution_count": 22,
   "metadata": {},
   "outputs": [
    {
     "data": {
      "text/plain": [
       "71913.20000000001"
      ]
     },
     "execution_count": 22,
     "metadata": {},
     "output_type": "execute_result"
    }
   ],
   "source": [
    "# Calculate the total value of the stock and bond portion of the portfolio\n",
    "total_stocks_bonds = (agg_value + spy_value)\n",
    "\n",
    "# Print the current balance of the stock and bond portion of the portfolio\n",
    "# YOUR CODE HERE\n",
    "total_stocks_bonds"
   ]
  },
  {
   "cell_type": "code",
   "execution_count": 23,
   "metadata": {},
   "outputs": [
    {
     "data": {
      "text/plain": [
       "138692.673"
      ]
     },
     "execution_count": 23,
     "metadata": {},
     "output_type": "execute_result"
    }
   ],
   "source": [
    "# Calculate the total value of the member's entire savings portfolio\n",
    "# Add the value of the cryptocurrency walled to the value of the total stocks and bonds\n",
    "total_portfolio = total_crypto_wallet + total_stocks_bonds\n",
    "\n",
    "# Print current cryptocurrency wallet balance\n",
    "# YOUR CODE HERE\n",
    "total_portfolio"
   ]
  },
  {
   "cell_type": "markdown",
   "metadata": {},
   "source": [
    "### Evaluate the Emergency Fund\n",
    "\n",
    "In this section, you’ll use the valuations for the cryptocurrency wallet and for the stock and bond portions of the portfolio to determine if the credit union member has enough savings to build an emergency fund into their financial plan. To do this, complete the following steps:\n",
    "\n",
    "1. Create a Python list named `savings_data` that has two elements. The first element contains the total value of the cryptocurrency wallet. The second element contains the total value of the stock and bond portions of the portfolio.\n",
    "\n",
    "2. Use the `savings_data` list to create a Pandas DataFrame named `savings_df`, and then display this DataFrame. The function to create the DataFrame should take the following three parameters:\n",
    "\n",
    "    - `savings_data`: Use the list that you just created.\n",
    "\n",
    "    - `columns`: Set this parameter equal to a Python list with a single value called `amount`.\n",
    "\n",
    "    - `index`: Set this parameter equal to a Python list with the values of `crypto` and `stock/bond`.\n",
    "\n",
    "3. Use the `savings_df` DataFrame to plot a pie chart that visualizes the composition of the member’s portfolio. The y-axis of the pie chart uses `amount`. Be sure to add a title.\n",
    "\n",
    "4. Using Python, determine if the current portfolio has enough to create an emergency fund as part of the member’s financial plan. Ideally, an emergency fund should equal to three times the member’s monthly income. To do this, implement the following steps:\n",
    "\n",
    "    1. Create a variable named `emergency_fund_value`, and set it equal to three times the value of the member’s `monthly_income` of $12000. (You set this earlier in Part 1).\n",
    "\n",
    "    2. Create a series of three if statements to determine if the member’s total portfolio is large enough to fund the emergency portfolio:\n",
    "\n",
    "        1. If the total portfolio value is greater than the emergency fund value, display a message congratulating the member for having enough money in this fund.\n",
    "\n",
    "        2. Else if the total portfolio value is equal to the emergency fund value, display a message congratulating the member on reaching this important financial goal.\n",
    "\n",
    "        3. Else the total portfolio is less than the emergency fund value, so display a message showing how many dollars away the member is from reaching the goal. (Subtract the total portfolio value from the emergency fund value.)\n"
   ]
  },
  {
   "cell_type": "markdown",
   "metadata": {},
   "source": [
    "#### Step 1: Create a Python list named `savings_data` that has two elements. The first element contains the total value of the cryptocurrency wallet. The second element contains the total value of the stock and bond portions of the portfolio."
   ]
  },
  {
   "cell_type": "code",
   "execution_count": 24,
   "metadata": {},
   "outputs": [
    {
     "data": {
      "text/plain": [
       "[66779.473, 71913.2]"
      ]
     },
     "execution_count": 24,
     "metadata": {},
     "output_type": "execute_result"
    }
   ],
   "source": [
    "# Consolidate financial assets data into a Python list\n",
    "# YOUR CODE HERE\n",
    "savings_data = [66779.473, 71913.20]\n",
    "# Review the Python list savings_data\n",
    "# YOUR CODE HERE\n",
    "savings_data"
   ]
  },
  {
   "cell_type": "markdown",
   "metadata": {},
   "source": [
    "#### Step 2: Use the `savings_data` list to create a Pandas DataFrame named `savings_df`, and then display this DataFrame. The function to create the DataFrame should take the following three parameters:\n",
    "\n",
    "- `savings_data`: Use the list that you just created.\n",
    "\n",
    "- `columns`: Set this parameter equal to a Python list with a single value called `amount`.\n",
    "\n",
    "- `index`: Set this parameter equal to a Python list with the values of `crypto` and `stock/bond`.\n"
   ]
  },
  {
   "cell_type": "code",
   "execution_count": 25,
   "metadata": {},
   "outputs": [
    {
     "data": {
      "text/html": [
       "<div>\n",
       "<style scoped>\n",
       "    .dataframe tbody tr th:only-of-type {\n",
       "        vertical-align: middle;\n",
       "    }\n",
       "\n",
       "    .dataframe tbody tr th {\n",
       "        vertical-align: top;\n",
       "    }\n",
       "\n",
       "    .dataframe thead th {\n",
       "        text-align: right;\n",
       "    }\n",
       "</style>\n",
       "<table border=\"1\" class=\"dataframe\">\n",
       "  <thead>\n",
       "    <tr style=\"text-align: right;\">\n",
       "      <th></th>\n",
       "      <th>Amount</th>\n",
       "    </tr>\n",
       "  </thead>\n",
       "  <tbody>\n",
       "    <tr>\n",
       "      <th>Crypto</th>\n",
       "      <td>66779.473</td>\n",
       "    </tr>\n",
       "    <tr>\n",
       "      <th>Stock/Bonds</th>\n",
       "      <td>71913.200</td>\n",
       "    </tr>\n",
       "  </tbody>\n",
       "</table>\n",
       "</div>"
      ],
      "text/plain": [
       "                Amount\n",
       "Crypto       66779.473\n",
       "Stock/Bonds  71913.200"
      ]
     },
     "execution_count": 25,
     "metadata": {},
     "output_type": "execute_result"
    }
   ],
   "source": [
    "# Create a Pandas DataFrame called savings_df \n",
    "# YOUR CODE HERE\n",
    "savings_df = pd.DataFrame(savings_data, index = [\"Crypto\", \"Stock/Bonds\"], columns = [\"Amount\"])\n",
    "# Display the savings_df DataFrame\n",
    "# YOUR CODE HERE\n",
    "savings_df"
   ]
  },
  {
   "cell_type": "markdown",
   "metadata": {},
   "source": [
    "#### Step 3: Use the `savings_df` DataFrame to plot a pie chart that visualizes the composition of the member’s portfolio. The y-axis of the pie chart uses `amount`. Be sure to add a title."
   ]
  },
  {
   "cell_type": "code",
   "execution_count": 26,
   "metadata": {},
   "outputs": [
    {
     "data": {
      "text/plain": [
       "<AxesSubplot:title={'center':'Pie Chart of Portfolio'}, ylabel='Amount'>"
      ]
     },
     "execution_count": 26,
     "metadata": {},
     "output_type": "execute_result"
    },
    {
     "data": {
      "image/png": "[encoded data removed]",
      "text/plain": [
       "<Figure size 432x288 with 1 Axes>"
      ]
     },
     "metadata": {},
     "output_type": "display_data"
    }
   ],
   "source": [
    "# Plot the total value of the member's portfolio (crypto and stock/bond) in a pie chart\n",
    "# YOUR CODE HERE\n",
    "savings_df.plot.pie(y = \"Amount\", title = \"Pie Chart of Portfolio\")"
   ]
  },
  {
   "cell_type": "markdown",
   "metadata": {},
   "source": [
    "#### Step 4: Using Python, determine if the current portfolio has enough to create an emergency fund as part of the member’s financial plan. Ideally, an emergency fund should equal to three times the member’s monthly income. To do this, implement the following steps:\n",
    "\n",
    "Step 1. Create a variable named `emergency_fund_value`, and set it equal to three times the value of the member’s `monthly_income` of 12000. (You set this earlier in Part 1).\n",
    "\n",
    "Step 2. Create a series of three if statements to determine if the member’s total portfolio is large enough to fund the emergency portfolio:\n",
    "\n",
    "* If the total portfolio value is greater than the emergency fund value, display a message congratulating the member for having enough money in this fund.\n",
    "\n",
    "* Else if the total portfolio value is equal to the emergency fund value, display a message congratulating the member on reaching this important financial goal.\n",
    "\n",
    "* Else the total portfolio is less than the emergency fund value, so display a message showing how many dollars away the member is from reaching the goal. (Subtract the total portfolio value from the emergency fund value.)\n"
   ]
  },
  {
   "cell_type": "markdown",
   "metadata": {},
   "source": [
    "##### Step 4-1: Create a variable named `emergency_fund_value`, and set it equal to three times the value of the member’s `monthly_income` of 12000. (You set this earlier in Part 1)."
   ]
  },
  {
   "cell_type": "code",
   "execution_count": 27,
   "metadata": {},
   "outputs": [
    {
     "data": {
      "text/plain": [
       "36000"
      ]
     },
     "execution_count": 27,
     "metadata": {},
     "output_type": "execute_result"
    }
   ],
   "source": [
    "# Create a variable named emergency_fund_value\n",
    "# YOUR CODE HERE\n",
    "emergency_fund_value = monthly_income + monthly_income + monthly_income\n",
    "emergency_fund_value"
   ]
  },
  {
   "cell_type": "markdown",
   "metadata": {},
   "source": [
    "##### Step 4-2: Create a series of three if statements to determine if the member’s total portfolio is large enough to fund the emergency portfolio:\n",
    "\n",
    "* If the total portfolio value is greater than the emergency fund value, display a message congratulating the member for having enough money in this fund.\n",
    "\n",
    "* Else if the total portfolio value is equal to the emergency fund value, display a message congratulating the member on reaching this important financial goal.\n",
    "\n",
    "* Else the total portfolio is less than the emergency fund value, so display a message showing how many dollars away the member is from reaching the goal. (Subtract the total portfolio value from the emergency fund value.)"
   ]
  },
  {
   "cell_type": "code",
   "execution_count": 28,
   "metadata": {},
   "outputs": [
    {
     "name": "stdout",
     "output_type": "stream",
     "text": [
      "Congratulations you have enough money in this fund\n"
     ]
    }
   ],
   "source": [
    "# Evaluate the possibility of creating an emergency fund with 3 conditions:\n",
    "# YOUR CODE HERE\n",
    "\n",
    "if total_portfolio > emergency_fund_value:\n",
    "    print(\"Congratulations you have enough money in this fund\")\n",
    "elif total_portfolio == emergency_fund_value:\n",
    "    print(\"Congratulations on completing your financial goal\")\n",
    "else: \n",
    "    print(f\"The amount you still need to save is{total_portfolio - emergency_fund_value}\")\n",
    "# YOUR CODE HERE\n",
    " "
   ]
  },
  {
   "cell_type": "markdown",
   "metadata": {},
   "source": [
    "## Part 2: Create a Financial Planner for Retirement"
   ]
  },
  {
   "cell_type": "markdown",
   "metadata": {},
   "source": [
    "### Create the Monte Carlo Simulation\n",
    "\n",
    "In this section, you’ll use the MCForecastTools library to create a Monte Carlo simulation for the member’s savings portfolio. To do this, complete the following steps:\n",
    "\n",
    "1. Make an API call via the Alpaca SDK to get 3 years of historical closing prices for a traditional 60/40 portfolio split: 60% stocks (SPY) and 40% bonds (AGG).\n",
    "\n",
    "2. Run a Monte Carlo simulation of 500 samples and 30 years for the 60/40 portfolio, and then plot the results.The following image shows the overlay line plot resulting from a simulation with these characteristics. However, because a random number generator is used to run each live Monte Carlo simulation, your image will differ slightly from this exact image:\n",
    "\n",
    "![A screenshot depicts the resulting plot.](Images/5-4-monte-carlo-line-plot.png)\n",
    "\n",
    "3. Plot the probability distribution of the Monte Carlo simulation. Plot the probability distribution of the Monte Carlo simulation. The following image shows the histogram plot resulting from a simulation with these characteristics. However, because a random number generator is used to run each live Monte Carlo simulation, your image will differ slightly from this exact image:\n",
    "\n",
    "![A screenshot depicts the histogram plot.](Images/5-4-monte-carlo-histogram.png)\n",
    "\n",
    "4. Generate the summary statistics for the Monte Carlo simulation.\n",
    "\n"
   ]
  },
  {
   "cell_type": "markdown",
   "metadata": {},
   "source": [
    "#### Step 1: Make an API call via the Alpaca SDK to get 3 years of historical closing prices for a traditional 60/40 portfolio split: 60% stocks (SPY) and 40% bonds (AGG)."
   ]
  },
  {
   "cell_type": "code",
   "execution_count": null,
   "metadata": {},
   "outputs": [],
   "source": [
    "# Set start and end dates of 3 years back from your current date\n",
    "# Alternatively, you can use an end date of 2020-08-07 and work 3 years back from that date \n",
    "tickers = [\"SPY\", \"AGG\"]\n",
    "# YOUR CODE HERE\n",
    "timeframe = \"1D\"\n",
    "start_date = pd.Timestamp(\"2018-09-24\", tz=\"America/New_York\").isoformat()\n",
    "end_date = pd.Timestamp(\"2021-09-24\", tz=\"America/New_York\").isoformat()\n",
    "# Set number of rows to 1000 to retrieve the maximum amount of rows\n",
    "# YOUR CODE HERE\n",
    "limit_rows = 1000"
   ]
  },
  {
   "cell_type": "code",
   "execution_count": 30,
   "metadata": {},
   "outputs": [
    {
     "data": {
      "text/html": [
       "<div>\n",
       "<style scoped>\n",
       "    .dataframe tbody tr th:only-of-type {\n",
       "        vertical-align: middle;\n",
       "    }\n",
       "\n",
       "    .dataframe tbody tr th {\n",
       "        vertical-align: top;\n",
       "    }\n",
       "\n",
       "    .dataframe thead tr th {\n",
       "        text-align: left;\n",
       "    }\n",
       "\n",
       "    .dataframe thead tr:last-of-type th {\n",
       "        text-align: right;\n",
       "    }\n",
       "</style>\n",
       "<table border=\"1\" class=\"dataframe\">\n",
       "  <thead>\n",
       "    <tr>\n",
       "      <th></th>\n",
       "      <th colspan=\"5\" halign=\"left\">AGG</th>\n",
       "      <th colspan=\"5\" halign=\"left\">SPY</th>\n",
       "    </tr>\n",
       "    <tr>\n",
       "      <th></th>\n",
       "      <th>open</th>\n",
       "      <th>high</th>\n",
       "      <th>low</th>\n",
       "      <th>close</th>\n",
       "      <th>volume</th>\n",
       "      <th>open</th>\n",
       "      <th>high</th>\n",
       "      <th>low</th>\n",
       "      <th>close</th>\n",
       "      <th>volume</th>\n",
       "    </tr>\n",
       "    <tr>\n",
       "      <th>time</th>\n",
       "      <th></th>\n",
       "      <th></th>\n",
       "      <th></th>\n",
       "      <th></th>\n",
       "      <th></th>\n",
       "      <th></th>\n",
       "      <th></th>\n",
       "      <th></th>\n",
       "      <th></th>\n",
       "      <th></th>\n",
       "    </tr>\n",
       "  </thead>\n",
       "  <tbody>\n",
       "    <tr>\n",
       "      <th>2021-09-20 00:00:00-04:00</th>\n",
       "      <td>116.02</td>\n",
       "      <td>116.1700</td>\n",
       "      <td>115.975</td>\n",
       "      <td>116.120</td>\n",
       "      <td>4463038</td>\n",
       "      <td>434.88</td>\n",
       "      <td>436.56</td>\n",
       "      <td>428.860</td>\n",
       "      <td>434.07</td>\n",
       "      <td>149948277</td>\n",
       "    </tr>\n",
       "    <tr>\n",
       "      <th>2021-09-21 00:00:00-04:00</th>\n",
       "      <td>116.13</td>\n",
       "      <td>116.1700</td>\n",
       "      <td>116.045</td>\n",
       "      <td>116.135</td>\n",
       "      <td>4455403</td>\n",
       "      <td>436.53</td>\n",
       "      <td>437.91</td>\n",
       "      <td>433.070</td>\n",
       "      <td>433.67</td>\n",
       "      <td>82418070</td>\n",
       "    </tr>\n",
       "    <tr>\n",
       "      <th>2021-09-22 00:00:00-04:00</th>\n",
       "      <td>116.11</td>\n",
       "      <td>116.2500</td>\n",
       "      <td>116.005</td>\n",
       "      <td>116.190</td>\n",
       "      <td>6079965</td>\n",
       "      <td>436.05</td>\n",
       "      <td>440.03</td>\n",
       "      <td>433.747</td>\n",
       "      <td>437.83</td>\n",
       "      <td>91135278</td>\n",
       "    </tr>\n",
       "    <tr>\n",
       "      <th>2021-09-23 00:00:00-04:00</th>\n",
       "      <td>115.93</td>\n",
       "      <td>115.9400</td>\n",
       "      <td>115.570</td>\n",
       "      <td>115.570</td>\n",
       "      <td>7516613</td>\n",
       "      <td>439.84</td>\n",
       "      <td>444.89</td>\n",
       "      <td>439.600</td>\n",
       "      <td>443.13</td>\n",
       "      <td>67408294</td>\n",
       "    </tr>\n",
       "    <tr>\n",
       "      <th>2021-09-24 00:00:00-04:00</th>\n",
       "      <td>115.50</td>\n",
       "      <td>115.5055</td>\n",
       "      <td>115.319</td>\n",
       "      <td>115.410</td>\n",
       "      <td>3388185</td>\n",
       "      <td>441.44</td>\n",
       "      <td>444.67</td>\n",
       "      <td>441.210</td>\n",
       "      <td>443.92</td>\n",
       "      <td>52199034</td>\n",
       "    </tr>\n",
       "  </tbody>\n",
       "</table>\n",
       "</div>"
      ],
      "text/plain": [
       "                              AGG                                       \\\n",
       "                             open      high      low    close   volume   \n",
       "time                                                                     \n",
       "2021-09-20 00:00:00-04:00  116.02  116.1700  115.975  116.120  4463038   \n",
       "2021-09-21 00:00:00-04:00  116.13  116.1700  116.045  116.135  4455403   \n",
       "2021-09-22 00:00:00-04:00  116.11  116.2500  116.005  116.190  6079965   \n",
       "2021-09-23 00:00:00-04:00  115.93  115.9400  115.570  115.570  7516613   \n",
       "2021-09-24 00:00:00-04:00  115.50  115.5055  115.319  115.410  3388185   \n",
       "\n",
       "                              SPY                                      \n",
       "                             open    high      low   close     volume  \n",
       "time                                                                   \n",
       "2021-09-20 00:00:00-04:00  434.88  436.56  428.860  434.07  149948277  \n",
       "2021-09-21 00:00:00-04:00  436.53  437.91  433.070  433.67   82418070  \n",
       "2021-09-22 00:00:00-04:00  436.05  440.03  433.747  437.83   91135278  \n",
       "2021-09-23 00:00:00-04:00  439.84  444.89  439.600  443.13   67408294  \n",
       "2021-09-24 00:00:00-04:00  441.44  444.67  441.210  443.92   52199034  "
      ]
     },
     "execution_count": 30,
     "metadata": {},
     "output_type": "execute_result"
    }
   ],
   "source": [
    "# Use the Alpaca get_barset function to make the API call to get the 3 years worth of pricing data\n",
    "# The tickers and timeframe parameters should have been set in Part 1 of this activity \n",
    "#  The start and end dates should be updated with the information set above\n",
    "# Remember to add the df property to the end of the call so the response is returned as a DataFrame\n",
    "# YOUR CODE HERE\n",
    "df_ticker_3_Years = alpaca.get_barset(tickers, timeframe, start = start_date, end = end_date, limit = limit_rows).df\n",
    "\n",
    "\n",
    "# Display both the first and last five rows of the DataFrame\n",
    "# YOUR CODE HERE\n",
    "# YOUR CODE HERE\n",
    "df_ticker_3_Years.head()\n",
    "df_ticker_3_Years.tail()"
   ]
  },
  {
   "cell_type": "markdown",
   "metadata": {},
   "source": [
    "#### Step 2: Run a Monte Carlo simulation of 500 samples and 30 years for the 60/40 portfolio, and then plot the results."
   ]
  },
  {
   "cell_type": "code",
   "execution_count": 31,
   "metadata": {},
   "outputs": [
    {
     "data": {
      "text/html": [
       "<div>\n",
       "<style scoped>\n",
       "    .dataframe tbody tr th:only-of-type {\n",
       "        vertical-align: middle;\n",
       "    }\n",
       "\n",
       "    .dataframe tbody tr th {\n",
       "        vertical-align: top;\n",
       "    }\n",
       "\n",
       "    .dataframe thead tr th {\n",
       "        text-align: left;\n",
       "    }\n",
       "\n",
       "    .dataframe thead tr:last-of-type th {\n",
       "        text-align: right;\n",
       "    }\n",
       "</style>\n",
       "<table border=\"1\" class=\"dataframe\">\n",
       "  <thead>\n",
       "    <tr>\n",
       "      <th></th>\n",
       "      <th colspan=\"6\" halign=\"left\">AGG</th>\n",
       "      <th colspan=\"6\" halign=\"left\">SPY</th>\n",
       "    </tr>\n",
       "    <tr>\n",
       "      <th></th>\n",
       "      <th>open</th>\n",
       "      <th>high</th>\n",
       "      <th>low</th>\n",
       "      <th>close</th>\n",
       "      <th>volume</th>\n",
       "      <th>daily_return</th>\n",
       "      <th>open</th>\n",
       "      <th>high</th>\n",
       "      <th>low</th>\n",
       "      <th>close</th>\n",
       "      <th>volume</th>\n",
       "      <th>daily_return</th>\n",
       "    </tr>\n",
       "    <tr>\n",
       "      <th>time</th>\n",
       "      <th></th>\n",
       "      <th></th>\n",
       "      <th></th>\n",
       "      <th></th>\n",
       "      <th></th>\n",
       "      <th></th>\n",
       "      <th></th>\n",
       "      <th></th>\n",
       "      <th></th>\n",
       "      <th></th>\n",
       "      <th></th>\n",
       "      <th></th>\n",
       "    </tr>\n",
       "  </thead>\n",
       "  <tbody>\n",
       "    <tr>\n",
       "      <th>2018-09-25 00:00:00-04:00</th>\n",
       "      <td>105.25</td>\n",
       "      <td>105.30</td>\n",
       "      <td>105.180</td>\n",
       "      <td>105.290</td>\n",
       "      <td>1863777</td>\n",
       "      <td>-0.000570</td>\n",
       "      <td>291.53</td>\n",
       "      <td>291.65</td>\n",
       "      <td>290.4833</td>\n",
       "      <td>290.70</td>\n",
       "      <td>30128907</td>\n",
       "      <td>-0.001271</td>\n",
       "    </tr>\n",
       "    <tr>\n",
       "      <th>2018-09-26 00:00:00-04:00</th>\n",
       "      <td>105.37</td>\n",
       "      <td>105.60</td>\n",
       "      <td>105.335</td>\n",
       "      <td>105.560</td>\n",
       "      <td>2626493</td>\n",
       "      <td>0.002564</td>\n",
       "      <td>290.92</td>\n",
       "      <td>292.24</td>\n",
       "      <td>289.4100</td>\n",
       "      <td>289.84</td>\n",
       "      <td>53536102</td>\n",
       "      <td>-0.002958</td>\n",
       "    </tr>\n",
       "    <tr>\n",
       "      <th>2018-09-27 00:00:00-04:00</th>\n",
       "      <td>105.50</td>\n",
       "      <td>105.64</td>\n",
       "      <td>105.500</td>\n",
       "      <td>105.625</td>\n",
       "      <td>2252805</td>\n",
       "      <td>0.000616</td>\n",
       "      <td>290.44</td>\n",
       "      <td>291.91</td>\n",
       "      <td>290.1000</td>\n",
       "      <td>290.65</td>\n",
       "      <td>42099964</td>\n",
       "      <td>0.002795</td>\n",
       "    </tr>\n",
       "    <tr>\n",
       "      <th>2018-09-28 00:00:00-04:00</th>\n",
       "      <td>105.69</td>\n",
       "      <td>105.71</td>\n",
       "      <td>105.510</td>\n",
       "      <td>105.520</td>\n",
       "      <td>3859908</td>\n",
       "      <td>-0.000994</td>\n",
       "      <td>289.99</td>\n",
       "      <td>291.28</td>\n",
       "      <td>289.9500</td>\n",
       "      <td>290.61</td>\n",
       "      <td>49399177</td>\n",
       "      <td>-0.000138</td>\n",
       "    </tr>\n",
       "  </tbody>\n",
       "</table>\n",
       "</div>"
      ],
      "text/plain": [
       "                              AGG                                     \\\n",
       "                             open    high      low    close   volume   \n",
       "time                                                                   \n",
       "2018-09-25 00:00:00-04:00  105.25  105.30  105.180  105.290  1863777   \n",
       "2018-09-26 00:00:00-04:00  105.37  105.60  105.335  105.560  2626493   \n",
       "2018-09-27 00:00:00-04:00  105.50  105.64  105.500  105.625  2252805   \n",
       "2018-09-28 00:00:00-04:00  105.69  105.71  105.510  105.520  3859908   \n",
       "\n",
       "                                           SPY                            \\\n",
       "                          daily_return    open    high       low   close   \n",
       "time                                                                       \n",
       "2018-09-25 00:00:00-04:00    -0.000570  291.53  291.65  290.4833  290.70   \n",
       "2018-09-26 00:00:00-04:00     0.002564  290.92  292.24  289.4100  289.84   \n",
       "2018-09-27 00:00:00-04:00     0.000616  290.44  291.91  290.1000  290.65   \n",
       "2018-09-28 00:00:00-04:00    -0.000994  289.99  291.28  289.9500  290.61   \n",
       "\n",
       "                                                  \n",
       "                             volume daily_return  \n",
       "time                                              \n",
       "2018-09-25 00:00:00-04:00  30128907    -0.001271  \n",
       "2018-09-26 00:00:00-04:00  53536102    -0.002958  \n",
       "2018-09-27 00:00:00-04:00  42099964     0.002795  \n",
       "2018-09-28 00:00:00-04:00  49399177    -0.000138  "
      ]
     },
     "execution_count": 31,
     "metadata": {},
     "output_type": "execute_result"
    }
   ],
   "source": [
    "# Configure the Monte Carlo simulation to forecast 30 years cumulative returns\n",
    "# The weights should be split 40% to AGG and 60% to SPY.\n",
    "# Run 500 samples.\n",
    "# YOUR CODE HERE\n",
    "Thirty_Year_Simulation = MCSimulation(portfolio_data = df_ticker_3_Years, weights = [.4,.6], num_simulation = 500, num_trading_days=252*30)\n",
    "# Review the simulation input data\n",
    "# YOUR CODE HERE\n",
    "Thirty_Year_Simulation.portfolio_data.head().dropna()"
   ]
  },
  {
   "cell_type": "code",
   "execution_count": null,
   "metadata": {},
   "outputs": [],
   "source": [
    "# Run the Monte Carlo simulation to forecast 30 years cumulative returns\n",
    "# YOUR CODE HERE\n",
    "Thirty_Year_Simulation.calc_cumulative_return()"
   ]
  },
  {
   "cell_type": "code",
   "execution_count": null,
   "metadata": {},
   "outputs": [],
   "source": [
    "# Visualize the 30-year Monte Carlo simulation by creating an\n",
    "# overlay line plot\n",
    "# YOUR CODE HERE\n",
    "Thirty_Year_Simulation.plot_simulation()"
   ]
  },
  {
   "cell_type": "markdown",
   "metadata": {},
   "source": [
    "#### Step 3: Plot the probability distribution of the Monte Carlo simulation."
   ]
  },
  {
   "cell_type": "code",
   "execution_count": null,
   "metadata": {},
   "outputs": [],
   "source": [
    "# Visualize the probability distribution of the 30-year Monte Carlo simulation \n",
    "# by plotting a histogram\n",
    "# YOUR CODE HERE\n",
    "Thirty_Year_Simulation.plot_distribution()"
   ]
  },
  {
   "cell_type": "markdown",
   "metadata": {},
   "source": [
    "#### Step 4: Generate the summary statistics for the Monte Carlo simulation."
   ]
  },
  {
   "cell_type": "code",
   "execution_count": null,
   "metadata": {},
   "outputs": [],
   "source": [
    "# Generate summary statistics from the 30-year Monte Carlo simulation results\n",
    "# Save the results as a variable\n",
    "# YOUR CODE HERE\n",
    "Summary_Stats1 = Thirty_Year_Simulation.summarize_cumulative_return()\n",
    "\n",
    "# Review the 30-year Monte Carlo summary statistics\n",
    "# YOUR CODE HERE\n",
    "Summary_Stats1"
   ]
  },
  {
   "cell_type": "markdown",
   "metadata": {},
   "source": [
    "### Analyze the Retirement Portfolio Forecasts\n",
    "\n",
    "Using the current value of only the stock and bond portion of the member's portfolio and the summary statistics that you generated from the Monte Carlo simulation, answer the following question in your Jupyter notebook:\n",
    "\n",
    "-  What are the lower and upper bounds for the expected value of the portfolio with a 95% confidence interval?\n"
   ]
  },
  {
   "cell_type": "code",
   "execution_count": null,
   "metadata": {},
   "outputs": [],
   "source": [
    "# Print the current balance of the stock and bond portion of the members portfolio\n",
    "# YOUR CODE\n",
    "total_stocks_bonds"
   ]
  },
  {
   "cell_type": "code",
   "execution_count": 56,
   "metadata": {},
   "outputs": [
    {
     "name": "stdout",
     "output_type": "stream",
     "text": [
      "There is a 95% chance that an initial investment of $ 71913.20 over the course of 10 years will result in a range of $ 387485.30 and $ 7066450.06\n"
     ]
    }
   ],
   "source": [
    "# Use the lower and upper `95%` confidence intervals to calculate the range of the possible outcomes for the current stock/bond portfolio\n",
    "ci_lower_thirty_cumulative_return = Summary_Stats1[8] * total_stocks_bonds\n",
    "ci_upper_thirty_cumulative_return = Summary_Stats1[9] * total_stocks_bonds\n",
    "\n",
    "# Print the result of your calculations\n",
    "# YOUR CODE HERE\n",
    "print(f\"There is a 95% chance that an initial investment of ${total_stocks_bonds: .2f} over the course of 10 years will result in a range of ${ci_lower_thirty_cumulative_return: .2f} and ${ci_upper_thirty_cumulative_return: .2f}\")"
   ]
  },
  {
   "cell_type": "markdown",
   "metadata": {},
   "source": [
    "### Forecast Cumulative Returns in 10 Years\n",
    "\n",
    "The CTO of the credit union is impressed with your work on these planning tools but wonders if 30 years is a long time to wait until retirement. So, your next task is to adjust the retirement portfolio and run a new Monte Carlo simulation to find out if the changes will allow members to retire earlier.\n",
    "\n",
    "For this new Monte Carlo simulation, do the following: \n",
    "\n",
    "- Forecast the cumulative returns for 10 years from now. Because of the shortened investment horizon (30 years to 10 years), the portfolio needs to invest more heavily in the riskier asset&mdash;that is, stock&mdash;to help accumulate wealth for retirement. \n",
    "\n",
    "- Adjust the weights of the retirement portfolio so that the composition for the Monte Carlo simulation consists of 20% bonds and 80% stocks. \n",
    "\n",
    "- Run the simulation over 500 samples, and use the same data that the API call to Alpaca generated.\n",
    "\n",
    "- Based on the new Monte Carlo simulation, answer the following questions in your Jupyter notebook:\n",
    "\n",
    "    - Using the current value of only the stock and bond portion of the member's portfolio and the summary statistics that you generated from the new Monte Carlo simulation, what are the lower and upper bounds for the expected value of the portfolio (with the new weights) with a 95% confidence interval?\n",
    "\n",
    "    - Will weighting the portfolio more heavily toward stocks allow the credit union members to retire after only 10 years?\n"
   ]
  },
  {
   "cell_type": "code",
   "execution_count": 38,
   "metadata": {},
   "outputs": [
    {
     "data": {
      "text/html": [
       "<div>\n",
       "<style scoped>\n",
       "    .dataframe tbody tr th:only-of-type {\n",
       "        vertical-align: middle;\n",
       "    }\n",
       "\n",
       "    .dataframe tbody tr th {\n",
       "        vertical-align: top;\n",
       "    }\n",
       "\n",
       "    .dataframe thead tr th {\n",
       "        text-align: left;\n",
       "    }\n",
       "\n",
       "    .dataframe thead tr:last-of-type th {\n",
       "        text-align: right;\n",
       "    }\n",
       "</style>\n",
       "<table border=\"1\" class=\"dataframe\">\n",
       "  <thead>\n",
       "    <tr>\n",
       "      <th></th>\n",
       "      <th colspan=\"6\" halign=\"left\">AGG</th>\n",
       "      <th colspan=\"6\" halign=\"left\">SPY</th>\n",
       "    </tr>\n",
       "    <tr>\n",
       "      <th></th>\n",
       "      <th>open</th>\n",
       "      <th>high</th>\n",
       "      <th>low</th>\n",
       "      <th>close</th>\n",
       "      <th>volume</th>\n",
       "      <th>daily_return</th>\n",
       "      <th>open</th>\n",
       "      <th>high</th>\n",
       "      <th>low</th>\n",
       "      <th>close</th>\n",
       "      <th>volume</th>\n",
       "      <th>daily_return</th>\n",
       "    </tr>\n",
       "    <tr>\n",
       "      <th>time</th>\n",
       "      <th></th>\n",
       "      <th></th>\n",
       "      <th></th>\n",
       "      <th></th>\n",
       "      <th></th>\n",
       "      <th></th>\n",
       "      <th></th>\n",
       "      <th></th>\n",
       "      <th></th>\n",
       "      <th></th>\n",
       "      <th></th>\n",
       "      <th></th>\n",
       "    </tr>\n",
       "  </thead>\n",
       "  <tbody>\n",
       "    <tr>\n",
       "      <th>2018-09-25 00:00:00-04:00</th>\n",
       "      <td>105.25</td>\n",
       "      <td>105.30</td>\n",
       "      <td>105.180</td>\n",
       "      <td>105.290</td>\n",
       "      <td>1863777</td>\n",
       "      <td>-0.000570</td>\n",
       "      <td>291.53</td>\n",
       "      <td>291.65</td>\n",
       "      <td>290.4833</td>\n",
       "      <td>290.70</td>\n",
       "      <td>30128907</td>\n",
       "      <td>-0.001271</td>\n",
       "    </tr>\n",
       "    <tr>\n",
       "      <th>2018-09-26 00:00:00-04:00</th>\n",
       "      <td>105.37</td>\n",
       "      <td>105.60</td>\n",
       "      <td>105.335</td>\n",
       "      <td>105.560</td>\n",
       "      <td>2626493</td>\n",
       "      <td>0.002564</td>\n",
       "      <td>290.92</td>\n",
       "      <td>292.24</td>\n",
       "      <td>289.4100</td>\n",
       "      <td>289.84</td>\n",
       "      <td>53536102</td>\n",
       "      <td>-0.002958</td>\n",
       "    </tr>\n",
       "    <tr>\n",
       "      <th>2018-09-27 00:00:00-04:00</th>\n",
       "      <td>105.50</td>\n",
       "      <td>105.64</td>\n",
       "      <td>105.500</td>\n",
       "      <td>105.625</td>\n",
       "      <td>2252805</td>\n",
       "      <td>0.000616</td>\n",
       "      <td>290.44</td>\n",
       "      <td>291.91</td>\n",
       "      <td>290.1000</td>\n",
       "      <td>290.65</td>\n",
       "      <td>42099964</td>\n",
       "      <td>0.002795</td>\n",
       "    </tr>\n",
       "    <tr>\n",
       "      <th>2018-09-28 00:00:00-04:00</th>\n",
       "      <td>105.69</td>\n",
       "      <td>105.71</td>\n",
       "      <td>105.510</td>\n",
       "      <td>105.520</td>\n",
       "      <td>3859908</td>\n",
       "      <td>-0.000994</td>\n",
       "      <td>289.99</td>\n",
       "      <td>291.28</td>\n",
       "      <td>289.9500</td>\n",
       "      <td>290.61</td>\n",
       "      <td>49399177</td>\n",
       "      <td>-0.000138</td>\n",
       "    </tr>\n",
       "  </tbody>\n",
       "</table>\n",
       "</div>"
      ],
      "text/plain": [
       "                              AGG                                     \\\n",
       "                             open    high      low    close   volume   \n",
       "time                                                                   \n",
       "2018-09-25 00:00:00-04:00  105.25  105.30  105.180  105.290  1863777   \n",
       "2018-09-26 00:00:00-04:00  105.37  105.60  105.335  105.560  2626493   \n",
       "2018-09-27 00:00:00-04:00  105.50  105.64  105.500  105.625  2252805   \n",
       "2018-09-28 00:00:00-04:00  105.69  105.71  105.510  105.520  3859908   \n",
       "\n",
       "                                           SPY                            \\\n",
       "                          daily_return    open    high       low   close   \n",
       "time                                                                       \n",
       "2018-09-25 00:00:00-04:00    -0.000570  291.53  291.65  290.4833  290.70   \n",
       "2018-09-26 00:00:00-04:00     0.002564  290.92  292.24  289.4100  289.84   \n",
       "2018-09-27 00:00:00-04:00     0.000616  290.44  291.91  290.1000  290.65   \n",
       "2018-09-28 00:00:00-04:00    -0.000994  289.99  291.28  289.9500  290.61   \n",
       "\n",
       "                                                  \n",
       "                             volume daily_return  \n",
       "time                                              \n",
       "2018-09-25 00:00:00-04:00  30128907    -0.001271  \n",
       "2018-09-26 00:00:00-04:00  53536102    -0.002958  \n",
       "2018-09-27 00:00:00-04:00  42099964     0.002795  \n",
       "2018-09-28 00:00:00-04:00  49399177    -0.000138  "
      ]
     },
     "execution_count": 38,
     "metadata": {},
     "output_type": "execute_result"
    }
   ],
   "source": [
    "# Configure a Monte Carlo simulation to forecast 10 years cumulative returns\n",
    "# The weights should be split 20% to AGG and 80% to SPY.\n",
    "# Run 500 samples.\n",
    "# YOUR CODE HERE\n",
    "Ten_Year_Simulation = MCSimulation(portfolio_data = df_ticker_3_Years, weights = [.2,.8], num_simulation = 500, num_trading_days=252*10)\n",
    "# Review the simulation input data\n",
    "# YOUR CODE HERE\n",
    "Ten_Year_Simulation.portfolio_data.head().dropna()\n",
    "# Review the simulation input data\n",
    "# YOUR CODE HERE\n"
   ]
  },
  {
   "cell_type": "code",
   "execution_count": 39,
   "metadata": {},
   "outputs": [
    {
     "name": "stdout",
     "output_type": "stream",
     "text": [
      "Running Monte Carlo simulation number 0.\n",
      "Running Monte Carlo simulation number 10.\n",
      "Running Monte Carlo simulation number 20.\n",
      "Running Monte Carlo simulation number 30.\n",
      "Running Monte Carlo simulation number 40.\n",
      "Running Monte Carlo simulation number 50.\n",
      "Running Monte Carlo simulation number 60.\n",
      "Running Monte Carlo simulation number 70.\n",
      "Running Monte Carlo simulation number 80.\n",
      "Running Monte Carlo simulation number 90.\n",
      "Running Monte Carlo simulation number 100.\n",
      "Running Monte Carlo simulation number 110.\n",
      "Running Monte Carlo simulation number 120.\n",
      "Running Monte Carlo simulation number 130.\n",
      "Running Monte Carlo simulation number 140.\n",
      "Running Monte Carlo simulation number 150.\n",
      "Running Monte Carlo simulation number 160.\n",
      "Running Monte Carlo simulation number 170.\n",
      "Running Monte Carlo simulation number 180.\n",
      "Running Monte Carlo simulation number 190.\n",
      "Running Monte Carlo simulation number 200.\n",
      "Running Monte Carlo simulation number 210.\n",
      "Running Monte Carlo simulation number 220.\n",
      "Running Monte Carlo simulation number 230.\n",
      "Running Monte Carlo simulation number 240.\n",
      "Running Monte Carlo simulation number 250.\n",
      "Running Monte Carlo simulation number 260.\n",
      "Running Monte Carlo simulation number 270.\n",
      "Running Monte Carlo simulation number 280.\n",
      "Running Monte Carlo simulation number 290.\n",
      "Running Monte Carlo simulation number 300.\n",
      "Running Monte Carlo simulation number 310.\n",
      "Running Monte Carlo simulation number 320.\n",
      "Running Monte Carlo simulation number 330.\n",
      "Running Monte Carlo simulation number 340.\n",
      "Running Monte Carlo simulation number 350.\n",
      "Running Monte Carlo simulation number 360.\n",
      "Running Monte Carlo simulation number 370.\n",
      "Running Monte Carlo simulation number 380.\n",
      "Running Monte Carlo simulation number 390.\n",
      "Running Monte Carlo simulation number 400.\n",
      "Running Monte Carlo simulation number 410.\n",
      "Running Monte Carlo simulation number 420.\n",
      "Running Monte Carlo simulation number 430.\n",
      "Running Monte Carlo simulation number 440.\n",
      "Running Monte Carlo simulation number 450.\n",
      "Running Monte Carlo simulation number 460.\n",
      "Running Monte Carlo simulation number 470.\n",
      "Running Monte Carlo simulation number 480.\n",
      "Running Monte Carlo simulation number 490.\n"
     ]
    },
    {
     "data": {
      "text/html": [
       "<div>\n",
       "<style scoped>\n",
       "    .dataframe tbody tr th:only-of-type {\n",
       "        vertical-align: middle;\n",
       "    }\n",
       "\n",
       "    .dataframe tbody tr th {\n",
       "        vertical-align: top;\n",
       "    }\n",
       "\n",
       "    .dataframe thead th {\n",
       "        text-align: right;\n",
       "    }\n",
       "</style>\n",
       "<table border=\"1\" class=\"dataframe\">\n",
       "  <thead>\n",
       "    <tr style=\"text-align: right;\">\n",
       "      <th></th>\n",
       "      <th>0</th>\n",
       "      <th>1</th>\n",
       "      <th>2</th>\n",
       "      <th>3</th>\n",
       "      <th>4</th>\n",
       "      <th>5</th>\n",
       "      <th>6</th>\n",
       "      <th>7</th>\n",
       "      <th>8</th>\n",
       "      <th>9</th>\n",
       "      <th>...</th>\n",
       "      <th>490</th>\n",
       "      <th>491</th>\n",
       "      <th>492</th>\n",
       "      <th>493</th>\n",
       "      <th>494</th>\n",
       "      <th>495</th>\n",
       "      <th>496</th>\n",
       "      <th>497</th>\n",
       "      <th>498</th>\n",
       "      <th>499</th>\n",
       "    </tr>\n",
       "  </thead>\n",
       "  <tbody>\n",
       "    <tr>\n",
       "      <th>0</th>\n",
       "      <td>1.000000</td>\n",
       "      <td>1.000000</td>\n",
       "      <td>1.000000</td>\n",
       "      <td>1.000000</td>\n",
       "      <td>1.000000</td>\n",
       "      <td>1.000000</td>\n",
       "      <td>1.000000</td>\n",
       "      <td>1.000000</td>\n",
       "      <td>1.000000</td>\n",
       "      <td>1.000000</td>\n",
       "      <td>...</td>\n",
       "      <td>1.000000</td>\n",
       "      <td>1.000000</td>\n",
       "      <td>1.000000</td>\n",
       "      <td>1.000000</td>\n",
       "      <td>1.000000</td>\n",
       "      <td>1.000000</td>\n",
       "      <td>1.000000</td>\n",
       "      <td>1.000000</td>\n",
       "      <td>1.000000</td>\n",
       "      <td>1.000000</td>\n",
       "    </tr>\n",
       "    <tr>\n",
       "      <th>1</th>\n",
       "      <td>1.034165</td>\n",
       "      <td>0.994803</td>\n",
       "      <td>0.999307</td>\n",
       "      <td>1.022270</td>\n",
       "      <td>0.994837</td>\n",
       "      <td>0.978630</td>\n",
       "      <td>0.989924</td>\n",
       "      <td>0.999391</td>\n",
       "      <td>1.004193</td>\n",
       "      <td>0.981100</td>\n",
       "      <td>...</td>\n",
       "      <td>1.000256</td>\n",
       "      <td>1.000733</td>\n",
       "      <td>0.986905</td>\n",
       "      <td>0.995109</td>\n",
       "      <td>0.984271</td>\n",
       "      <td>0.995134</td>\n",
       "      <td>0.988300</td>\n",
       "      <td>0.998839</td>\n",
       "      <td>0.993413</td>\n",
       "      <td>0.995506</td>\n",
       "    </tr>\n",
       "    <tr>\n",
       "      <th>2</th>\n",
       "      <td>1.039553</td>\n",
       "      <td>1.017922</td>\n",
       "      <td>1.021063</td>\n",
       "      <td>1.030542</td>\n",
       "      <td>0.992381</td>\n",
       "      <td>0.981330</td>\n",
       "      <td>1.008824</td>\n",
       "      <td>0.993095</td>\n",
       "      <td>0.994149</td>\n",
       "      <td>1.011689</td>\n",
       "      <td>...</td>\n",
       "      <td>0.977267</td>\n",
       "      <td>1.010680</td>\n",
       "      <td>0.988781</td>\n",
       "      <td>0.978543</td>\n",
       "      <td>0.986727</td>\n",
       "      <td>1.006332</td>\n",
       "      <td>0.990562</td>\n",
       "      <td>1.001120</td>\n",
       "      <td>0.993686</td>\n",
       "      <td>0.994334</td>\n",
       "    </tr>\n",
       "    <tr>\n",
       "      <th>3</th>\n",
       "      <td>1.029898</td>\n",
       "      <td>1.016043</td>\n",
       "      <td>1.014672</td>\n",
       "      <td>1.021542</td>\n",
       "      <td>0.974272</td>\n",
       "      <td>0.976052</td>\n",
       "      <td>1.023154</td>\n",
       "      <td>0.991437</td>\n",
       "      <td>1.010854</td>\n",
       "      <td>0.997532</td>\n",
       "      <td>...</td>\n",
       "      <td>0.962318</td>\n",
       "      <td>1.016552</td>\n",
       "      <td>0.996411</td>\n",
       "      <td>0.971754</td>\n",
       "      <td>1.006144</td>\n",
       "      <td>1.001483</td>\n",
       "      <td>1.000030</td>\n",
       "      <td>1.012082</td>\n",
       "      <td>0.985060</td>\n",
       "      <td>1.004260</td>\n",
       "    </tr>\n",
       "    <tr>\n",
       "      <th>4</th>\n",
       "      <td>1.037409</td>\n",
       "      <td>0.998128</td>\n",
       "      <td>1.028838</td>\n",
       "      <td>1.025483</td>\n",
       "      <td>0.976567</td>\n",
       "      <td>0.987422</td>\n",
       "      <td>1.040769</td>\n",
       "      <td>1.004546</td>\n",
       "      <td>0.986318</td>\n",
       "      <td>0.991297</td>\n",
       "      <td>...</td>\n",
       "      <td>0.958297</td>\n",
       "      <td>1.007613</td>\n",
       "      <td>0.996958</td>\n",
       "      <td>0.978791</td>\n",
       "      <td>0.995749</td>\n",
       "      <td>1.001285</td>\n",
       "      <td>1.021573</td>\n",
       "      <td>1.023255</td>\n",
       "      <td>0.996224</td>\n",
       "      <td>1.028752</td>\n",
       "    </tr>\n",
       "    <tr>\n",
       "      <th>...</th>\n",
       "      <td>...</td>\n",
       "      <td>...</td>\n",
       "      <td>...</td>\n",
       "      <td>...</td>\n",
       "      <td>...</td>\n",
       "      <td>...</td>\n",
       "      <td>...</td>\n",
       "      <td>...</td>\n",
       "      <td>...</td>\n",
       "      <td>...</td>\n",
       "      <td>...</td>\n",
       "      <td>...</td>\n",
       "      <td>...</td>\n",
       "      <td>...</td>\n",
       "      <td>...</td>\n",
       "      <td>...</td>\n",
       "      <td>...</td>\n",
       "      <td>...</td>\n",
       "      <td>...</td>\n",
       "      <td>...</td>\n",
       "      <td>...</td>\n",
       "    </tr>\n",
       "    <tr>\n",
       "      <th>2516</th>\n",
       "      <td>2.008510</td>\n",
       "      <td>2.839330</td>\n",
       "      <td>11.395520</td>\n",
       "      <td>5.349588</td>\n",
       "      <td>10.349092</td>\n",
       "      <td>3.218097</td>\n",
       "      <td>5.755338</td>\n",
       "      <td>4.162213</td>\n",
       "      <td>4.049893</td>\n",
       "      <td>3.511073</td>\n",
       "      <td>...</td>\n",
       "      <td>2.179413</td>\n",
       "      <td>2.487353</td>\n",
       "      <td>4.011912</td>\n",
       "      <td>1.818110</td>\n",
       "      <td>1.169478</td>\n",
       "      <td>2.008227</td>\n",
       "      <td>2.102847</td>\n",
       "      <td>10.444445</td>\n",
       "      <td>9.938412</td>\n",
       "      <td>3.193240</td>\n",
       "    </tr>\n",
       "    <tr>\n",
       "      <th>2517</th>\n",
       "      <td>2.032231</td>\n",
       "      <td>2.751979</td>\n",
       "      <td>11.413658</td>\n",
       "      <td>5.434344</td>\n",
       "      <td>10.380886</td>\n",
       "      <td>3.193192</td>\n",
       "      <td>5.901485</td>\n",
       "      <td>4.117001</td>\n",
       "      <td>4.059539</td>\n",
       "      <td>3.508461</td>\n",
       "      <td>...</td>\n",
       "      <td>2.160805</td>\n",
       "      <td>2.465428</td>\n",
       "      <td>3.979483</td>\n",
       "      <td>1.823751</td>\n",
       "      <td>1.179054</td>\n",
       "      <td>1.988837</td>\n",
       "      <td>2.086587</td>\n",
       "      <td>10.545794</td>\n",
       "      <td>9.755880</td>\n",
       "      <td>3.154193</td>\n",
       "    </tr>\n",
       "    <tr>\n",
       "      <th>2518</th>\n",
       "      <td>2.064597</td>\n",
       "      <td>2.790765</td>\n",
       "      <td>11.194557</td>\n",
       "      <td>5.427967</td>\n",
       "      <td>10.389547</td>\n",
       "      <td>3.245182</td>\n",
       "      <td>6.015604</td>\n",
       "      <td>4.079752</td>\n",
       "      <td>4.098227</td>\n",
       "      <td>3.526998</td>\n",
       "      <td>...</td>\n",
       "      <td>2.173605</td>\n",
       "      <td>2.494476</td>\n",
       "      <td>4.002829</td>\n",
       "      <td>1.809329</td>\n",
       "      <td>1.172461</td>\n",
       "      <td>2.026304</td>\n",
       "      <td>2.093189</td>\n",
       "      <td>10.619618</td>\n",
       "      <td>9.781871</td>\n",
       "      <td>3.205243</td>\n",
       "    </tr>\n",
       "    <tr>\n",
       "      <th>2519</th>\n",
       "      <td>1.991261</td>\n",
       "      <td>2.829035</td>\n",
       "      <td>11.033898</td>\n",
       "      <td>5.477620</td>\n",
       "      <td>10.497936</td>\n",
       "      <td>3.235730</td>\n",
       "      <td>6.012865</td>\n",
       "      <td>4.158703</td>\n",
       "      <td>4.132729</td>\n",
       "      <td>3.575285</td>\n",
       "      <td>...</td>\n",
       "      <td>2.176181</td>\n",
       "      <td>2.460145</td>\n",
       "      <td>4.009836</td>\n",
       "      <td>1.822520</td>\n",
       "      <td>1.163419</td>\n",
       "      <td>2.043041</td>\n",
       "      <td>2.118599</td>\n",
       "      <td>10.693975</td>\n",
       "      <td>9.850124</td>\n",
       "      <td>3.155730</td>\n",
       "    </tr>\n",
       "    <tr>\n",
       "      <th>2520</th>\n",
       "      <td>1.979618</td>\n",
       "      <td>2.840550</td>\n",
       "      <td>10.817444</td>\n",
       "      <td>5.577963</td>\n",
       "      <td>10.503774</td>\n",
       "      <td>3.241308</td>\n",
       "      <td>6.138874</td>\n",
       "      <td>4.183011</td>\n",
       "      <td>4.168453</td>\n",
       "      <td>3.684519</td>\n",
       "      <td>...</td>\n",
       "      <td>2.166619</td>\n",
       "      <td>2.451981</td>\n",
       "      <td>4.047285</td>\n",
       "      <td>1.824559</td>\n",
       "      <td>1.160356</td>\n",
       "      <td>1.968381</td>\n",
       "      <td>2.087493</td>\n",
       "      <td>11.037001</td>\n",
       "      <td>9.804628</td>\n",
       "      <td>3.163480</td>\n",
       "    </tr>\n",
       "  </tbody>\n",
       "</table>\n",
       "<p>2521 rows × 500 columns</p>\n",
       "</div>"
      ],
      "text/plain": [
       "           0         1          2         3          4         5         6    \\\n",
       "0     1.000000  1.000000   1.000000  1.000000   1.000000  1.000000  1.000000   \n",
       "1     1.034165  0.994803   0.999307  1.022270   0.994837  0.978630  0.989924   \n",
       "2     1.039553  1.017922   1.021063  1.030542   0.992381  0.981330  1.008824   \n",
       "3     1.029898  1.016043   1.014672  1.021542   0.974272  0.976052  1.023154   \n",
       "4     1.037409  0.998128   1.028838  1.025483   0.976567  0.987422  1.040769   \n",
       "...        ...       ...        ...       ...        ...       ...       ...   \n",
       "2516  2.008510  2.839330  11.395520  5.349588  10.349092  3.218097  5.755338   \n",
       "2517  2.032231  2.751979  11.413658  5.434344  10.380886  3.193192  5.901485   \n",
       "2518  2.064597  2.790765  11.194557  5.427967  10.389547  3.245182  6.015604   \n",
       "2519  1.991261  2.829035  11.033898  5.477620  10.497936  3.235730  6.012865   \n",
       "2520  1.979618  2.840550  10.817444  5.577963  10.503774  3.241308  6.138874   \n",
       "\n",
       "           7         8         9    ...       490       491       492  \\\n",
       "0     1.000000  1.000000  1.000000  ...  1.000000  1.000000  1.000000   \n",
       "1     0.999391  1.004193  0.981100  ...  1.000256  1.000733  0.986905   \n",
       "2     0.993095  0.994149  1.011689  ...  0.977267  1.010680  0.988781   \n",
       "3     0.991437  1.010854  0.997532  ...  0.962318  1.016552  0.996411   \n",
       "4     1.004546  0.986318  0.991297  ...  0.958297  1.007613  0.996958   \n",
       "...        ...       ...       ...  ...       ...       ...       ...   \n",
       "2516  4.162213  4.049893  3.511073  ...  2.179413  2.487353  4.011912   \n",
       "2517  4.117001  4.059539  3.508461  ...  2.160805  2.465428  3.979483   \n",
       "2518  4.079752  4.098227  3.526998  ...  2.173605  2.494476  4.002829   \n",
       "2519  4.158703  4.132729  3.575285  ...  2.176181  2.460145  4.009836   \n",
       "2520  4.183011  4.168453  3.684519  ...  2.166619  2.451981  4.047285   \n",
       "\n",
       "           493       494       495       496        497       498       499  \n",
       "0     1.000000  1.000000  1.000000  1.000000   1.000000  1.000000  1.000000  \n",
       "1     0.995109  0.984271  0.995134  0.988300   0.998839  0.993413  0.995506  \n",
       "2     0.978543  0.986727  1.006332  0.990562   1.001120  0.993686  0.994334  \n",
       "3     0.971754  1.006144  1.001483  1.000030   1.012082  0.985060  1.004260  \n",
       "4     0.978791  0.995749  1.001285  1.021573   1.023255  0.996224  1.028752  \n",
       "...        ...       ...       ...       ...        ...       ...       ...  \n",
       "2516  1.818110  1.169478  2.008227  2.102847  10.444445  9.938412  3.193240  \n",
       "2517  1.823751  1.179054  1.988837  2.086587  10.545794  9.755880  3.154193  \n",
       "2518  1.809329  1.172461  2.026304  2.093189  10.619618  9.781871  3.205243  \n",
       "2519  1.822520  1.163419  2.043041  2.118599  10.693975  9.850124  3.155730  \n",
       "2520  1.824559  1.160356  1.968381  2.087493  11.037001  9.804628  3.163480  \n",
       "\n",
       "[2521 rows x 500 columns]"
      ]
     },
     "execution_count": 39,
     "metadata": {},
     "output_type": "execute_result"
    }
   ],
   "source": [
    "# Run the Monte Carlo simulation to forecast 10 years cumulative returns\n",
    "# YOUR CODE HERE\n",
    "Ten_Year_Simulation.calc_cumulative_return()"
   ]
  },
  {
   "cell_type": "code",
   "execution_count": 40,
   "metadata": {},
   "outputs": [
    {
     "data": {
      "text/plain": [
       "<AxesSubplot:title={'center':'500 Simulations of Cumulative Portfolio Return Trajectories Over the Next 2520 Trading Days.'}>"
      ]
     },
     "execution_count": 40,
     "metadata": {},
     "output_type": "execute_result"
    },
    {
     "data": {
      "image/png": "[encoded data removed]",
      "text/plain": [
       "<Figure size 432x288 with 1 Axes>"
      ]
     },
     "metadata": {
      "needs_background": "light"
     },
     "output_type": "display_data"
    }
   ],
   "source": [
    "# Visualize the 10-year Monte Carlo simulation by creating an\n",
    "# overlay line plot\n",
    "# YOUR CODE HERE\n",
    "Ten_Year_Simulation.plot_simulation()"
   ]
  },
  {
   "cell_type": "code",
   "execution_count": 41,
   "metadata": {},
   "outputs": [
    {
     "data": {
      "text/plain": [
       "<AxesSubplot:title={'center':'Distribution of Final Cumuluative Returns Across All 500 Simulations'}, ylabel='Frequency'>"
      ]
     },
     "execution_count": 41,
     "metadata": {},
     "output_type": "execute_result"
    },
    {
     "data": {
      "image/png": "[encoded data removed]",
      "text/plain": [
       "<Figure size 432x288 with 1 Axes>"
      ]
     },
     "metadata": {
      "needs_background": "light"
     },
     "output_type": "display_data"
    }
   ],
   "source": [
    "# Visualize the probability distribution of the 10-year Monte Carlo simulation \n",
    "# by plotting a histogram\n",
    "# YOUR CODE HERE\n",
    "Ten_Year_Simulation.plot_distribution()"
   ]
  },
  {
   "cell_type": "code",
   "execution_count": 42,
   "metadata": {},
   "outputs": [
    {
     "data": {
      "text/plain": [
       "count           500.000000\n",
       "mean              4.126097\n",
       "std               2.696377\n",
       "min               0.725790\n",
       "25%               2.297674\n",
       "50%               3.482764\n",
       "75%               5.067481\n",
       "max              18.952301\n",
       "95% CI Lower      1.139043\n",
       "95% CI Upper     11.268420\n",
       "Name: 2520, dtype: float64"
      ]
     },
     "execution_count": 42,
     "metadata": {},
     "output_type": "execute_result"
    }
   ],
   "source": [
    "# Generate summary statistics from the 10-year Monte Carlo simulation results\n",
    "# Save the results as a variable\n",
    "# YOUR CODE HERE\n",
    "Summary_Stats2 = Ten_Year_Simulation.summarize_cumulative_return()\n",
    "\n",
    "# Review the 10-year Monte Carlo summary statistics\n",
    "# YOUR CODE HERE\n",
    "Summary_Stats2"
   ]
  },
  {
   "cell_type": "markdown",
   "metadata": {},
   "source": [
    "### Answer the following questions:"
   ]
  },
  {
   "cell_type": "markdown",
   "metadata": {},
   "source": [
    "#### Question: Using the current value of only the stock and bond portion of the member's portfolio and the summary statistics that you generated from the new Monte Carlo simulation, what are the lower and upper bounds for the expected value of the portfolio (with the new weights) with a 95% confidence interval?"
   ]
  },
  {
   "cell_type": "code",
   "execution_count": 43,
   "metadata": {},
   "outputs": [
    {
     "data": {
      "text/plain": [
       "71913.20000000001"
      ]
     },
     "execution_count": 43,
     "metadata": {},
     "output_type": "execute_result"
    }
   ],
   "source": [
    "# Print the current balance of the stock and bond portion of the members portfolio\n",
    "# YOUR CODE HERE\n",
    "total_stocks_bonds"
   ]
  },
  {
   "cell_type": "code",
   "execution_count": 55,
   "metadata": {},
   "outputs": [
    {
     "name": "stdout",
     "output_type": "stream",
     "text": [
      "There is a 95% chance that an initial investment of $ 71913.20 over the course of 10 years will result in a range of $ 81912.24 and $ 810348.13\n"
     ]
    }
   ],
   "source": [
    "# Use the lower and upper `95%` confidence intervals to calculate the range of the possible outcomes for the current stock/bond portfolio\n",
    "ci_lower_ten_cumulative_return = Summary_Stats2[8] * total_stocks_bonds\n",
    "ci_upper_ten_cumulative_return = Summary_Stats2[9] * total_stocks_bonds\n",
    "\n",
    "# Print the result of your calculations\n",
    "# YOUR CODE HERE\n",
    "ci_lower_ten_cumulative_return\n",
    "ci_upper_ten_cumulative_return\n",
    "print(f\"There is a 95% chance that an initial investment of ${total_stocks_bonds: .2f} over the course of 10 years will result in a range of ${ci_lower_ten_cumulative_return: .2f} and ${ci_upper_ten_cumulative_return: .2f}\")"
   ]
  },
  {
   "cell_type": "markdown",
   "metadata": {},
   "source": [
    "#### Question: Will weighting the portfolio more heavily to stocks allow the credit union members to retire after only 10 years?"
   ]
  },
  {
   "cell_type": "raw",
   "metadata": {},
   "source": [
    "**Answer** # YOUR ANSWER HERE I would say there is a chance that the person will not be able to retire as there is an extrmely large difference between the upper and lower bound for the 10 year monte carlo simulation, with the lower bound only increasing $10,000 dollars from the initial investment. With index funds, compound interest is extremlely important so therefore a portfolio that is consiting of 40% stock and 60% bonds will increase much more based on time rather than how the bonds and stocks are divided within the portfolio. "
   ]
  },
  {
   "cell_type": "code",
   "execution_count": null,
   "metadata": {},
   "outputs": [],
   "source": []
  }
 ],
 "metadata": {
  "kernelspec": {
   "display_name": "dev",
   "language": "python",
   "name": "dev"
  },
  "language_info": {
   "codemirror_mode": {
    "name": "ipython",
    "version": 3
   },
   "file_extension": ".py",
   "mimetype": "text/x-python",
   "name": "python",
   "nbconvert_exporter": "python",
   "pygments_lexer": "ipython3",
   "version": "3.7.10"
  }
 },
 "nbformat": 4,
 "nbformat_minor": 4
}
